{
  "cells": [
    {
      "cell_type": "markdown",
      "metadata": {
        "id": "view-in-github",
        "colab_type": "text"
      },
      "source": [
        "<a href=\"https://colab.research.google.com/github/albermpv/bempro/blob/main/bem_test.ipynb\" target=\"_parent\"><img src=\"https://colab.research.google.com/assets/colab-badge.svg\" alt=\"Open In Colab\"/></a>"
      ]
    },
    {
      "cell_type": "code",
      "source": [
        "!pip install lasio"
      ],
      "metadata": {
        "colab": {
          "base_uri": "https://localhost:8080/"
        },
        "id": "h3vxy7RHRmE5",
        "outputId": "90e3ed68-33f2-490a-f30d-771a04a1a87d"
      },
      "id": "h3vxy7RHRmE5",
      "execution_count": null,
      "outputs": [
        {
          "output_type": "stream",
          "name": "stdout",
          "text": [
            "Collecting lasio\n",
            "  Downloading lasio-0.31-py2.py3-none-any.whl.metadata (9.8 kB)\n",
            "Requirement already satisfied: numpy in /usr/local/lib/python3.11/dist-packages (from lasio) (2.0.2)\n",
            "Downloading lasio-0.31-py2.py3-none-any.whl (47 kB)\n",
            "\u001b[?25l   \u001b[90m━━━━━━━━━━━━━━━━━━━━━━━━━━━━━━━━━━━━━━━━\u001b[0m \u001b[32m0.0/47.4 kB\u001b[0m \u001b[31m?\u001b[0m eta \u001b[36m-:--:--\u001b[0m\r\u001b[2K   \u001b[90m━━━━━━━━━━━━━━━━━━━━━━━━━━━━━━━━━━━━━━━━\u001b[0m \u001b[32m47.4/47.4 kB\u001b[0m \u001b[31m3.2 MB/s\u001b[0m eta \u001b[36m0:00:00\u001b[0m\n",
            "\u001b[?25hInstalling collected packages: lasio\n",
            "Successfully installed lasio-0.31\n"
          ]
        }
      ]
    },
    {
      "cell_type": "code",
      "execution_count": null,
      "id": "adeabcd2-9fff-491c-b668-849e27fe1674",
      "metadata": {
        "id": "adeabcd2-9fff-491c-b668-849e27fe1674"
      },
      "outputs": [],
      "source": [
        "import pandas as pd\n",
        "import matplotlib.pyplot as plt\n",
        "import lasio"
      ]
    },
    {
      "cell_type": "code",
      "execution_count": null,
      "id": "193c6a90-c86b-4f58-8529-26967e60bbf9",
      "metadata": {
        "colab": {
          "base_uri": "https://localhost:8080/",
          "height": 200
        },
        "id": "193c6a90-c86b-4f58-8529-26967e60bbf9",
        "outputId": "4a62b7a1-cf29-47fc-fee5-9081330ac813"
      },
      "outputs": [
        {
          "output_type": "error",
          "ename": "FileNotFoundError",
          "evalue": "[Errno 2] No such file or directory: '1brsa1080ces_12_fmi.las'",
          "traceback": [
            "\u001b[0;31m---------------------------------------------------------------------------\u001b[0m",
            "\u001b[0;31mFileNotFoundError\u001b[0m                         Traceback (most recent call last)",
            "\u001b[0;32m<ipython-input-4-e77496c7f0cb>\u001b[0m in \u001b[0;36m<cell line: 0>\u001b[0;34m()\u001b[0m\n\u001b[0;32m----> 1\u001b[0;31m \u001b[0mlas\u001b[0m \u001b[0;34m=\u001b[0m \u001b[0mlasio\u001b[0m\u001b[0;34m.\u001b[0m\u001b[0mread\u001b[0m\u001b[0;34m(\u001b[0m\u001b[0;34m\"1brsa1080ces_12_fmi.las\"\u001b[0m\u001b[0;34m)\u001b[0m\u001b[0;34m\u001b[0m\u001b[0;34m\u001b[0m\u001b[0m\n\u001b[0m",
            "\u001b[0;32m/usr/local/lib/python3.11/dist-packages/lasio/__init__.py\u001b[0m in \u001b[0;36mread\u001b[0;34m(file_ref, **kwargs)\u001b[0m\n\u001b[1;32m    146\u001b[0m \u001b[0;34m\u001b[0m\u001b[0m\n\u001b[1;32m    147\u001b[0m     \"\"\"\n\u001b[0;32m--> 148\u001b[0;31m     \u001b[0;32mreturn\u001b[0m \u001b[0mLASFile\u001b[0m\u001b[0;34m(\u001b[0m\u001b[0mfile_ref\u001b[0m\u001b[0;34m,\u001b[0m \u001b[0;34m**\u001b[0m\u001b[0mkwargs\u001b[0m\u001b[0;34m)\u001b[0m\u001b[0;34m\u001b[0m\u001b[0;34m\u001b[0m\u001b[0m\n\u001b[0m",
            "\u001b[0;32m/usr/local/lib/python3.11/dist-packages/lasio/las.py\u001b[0m in \u001b[0;36m__init__\u001b[0;34m(self, file_ref, **read_kwargs)\u001b[0m\n\u001b[1;32m    137\u001b[0m \u001b[0;34m\u001b[0m\u001b[0m\n\u001b[1;32m    138\u001b[0m         \u001b[0;32mif\u001b[0m \u001b[0;32mnot\u001b[0m \u001b[0;34m(\u001b[0m\u001b[0mfile_ref\u001b[0m \u001b[0;32mis\u001b[0m \u001b[0;32mNone\u001b[0m\u001b[0;34m)\u001b[0m\u001b[0;34m:\u001b[0m\u001b[0;34m\u001b[0m\u001b[0;34m\u001b[0m\u001b[0m\n\u001b[0;32m--> 139\u001b[0;31m             \u001b[0mself\u001b[0m\u001b[0;34m.\u001b[0m\u001b[0mread\u001b[0m\u001b[0;34m(\u001b[0m\u001b[0mfile_ref\u001b[0m\u001b[0;34m,\u001b[0m \u001b[0;34m**\u001b[0m\u001b[0mread_kwargs\u001b[0m\u001b[0;34m)\u001b[0m\u001b[0;34m\u001b[0m\u001b[0;34m\u001b[0m\u001b[0m\n\u001b[0m\u001b[1;32m    140\u001b[0m \u001b[0;34m\u001b[0m\u001b[0m\n\u001b[1;32m    141\u001b[0m     def read(\n",
            "\u001b[0;32m/usr/local/lib/python3.11/dist-packages/lasio/las.py\u001b[0m in \u001b[0;36mread\u001b[0;34m(self, file_ref, ignore_header_errors, ignore_comments, ignore_data_comments, mnemonic_case, ignore_data, engine, use_normal_engine_for_wrapped, read_policy, null_policy, accept_regexp_sub_recommendations, index_unit, dtypes, **kwargs)\u001b[0m\n\u001b[1;32m    238\u001b[0m         \u001b[0mfile_obj\u001b[0m \u001b[0;34m=\u001b[0m \u001b[0;34m\"\"\u001b[0m\u001b[0;34m\u001b[0m\u001b[0;34m\u001b[0m\u001b[0m\n\u001b[1;32m    239\u001b[0m         \u001b[0;32mtry\u001b[0m\u001b[0;34m:\u001b[0m\u001b[0;34m\u001b[0m\u001b[0;34m\u001b[0m\u001b[0m\n\u001b[0;32m--> 240\u001b[0;31m             \u001b[0mfile_obj\u001b[0m\u001b[0;34m,\u001b[0m \u001b[0mself\u001b[0m\u001b[0;34m.\u001b[0m\u001b[0mencoding\u001b[0m \u001b[0;34m=\u001b[0m \u001b[0mreader\u001b[0m\u001b[0;34m.\u001b[0m\u001b[0mopen_file\u001b[0m\u001b[0;34m(\u001b[0m\u001b[0mfile_ref\u001b[0m\u001b[0;34m,\u001b[0m \u001b[0;34m**\u001b[0m\u001b[0mkwargs\u001b[0m\u001b[0;34m)\u001b[0m\u001b[0;34m\u001b[0m\u001b[0;34m\u001b[0m\u001b[0m\n\u001b[0m\u001b[1;32m    241\u001b[0m \u001b[0;34m\u001b[0m\u001b[0m\n\u001b[1;32m    242\u001b[0m             \u001b[0mtest_lidar\u001b[0m \u001b[0;34m=\u001b[0m \u001b[0mfile_obj\u001b[0m\u001b[0;34m.\u001b[0m\u001b[0mread\u001b[0m\u001b[0;34m(\u001b[0m\u001b[0;36m4\u001b[0m\u001b[0;34m)\u001b[0m\u001b[0;34m\u001b[0m\u001b[0;34m\u001b[0m\u001b[0m\n",
            "\u001b[0;32m/usr/local/lib/python3.11/dist-packages/lasio/reader.py\u001b[0m in \u001b[0;36mopen_file\u001b[0;34m(file_ref, **encoding_kwargs)\u001b[0m\n\u001b[1;32m    148\u001b[0m             \u001b[0mfile_ref\u001b[0m \u001b[0;34m=\u001b[0m \u001b[0mStringIO\u001b[0m\u001b[0;34m(\u001b[0m\u001b[0mfile_ref\u001b[0m\u001b[0;34m)\u001b[0m\u001b[0;34m\u001b[0m\u001b[0;34m\u001b[0m\u001b[0m\n\u001b[1;32m    149\u001b[0m         \u001b[0;32melse\u001b[0m\u001b[0;34m:\u001b[0m  \u001b[0;31m# it must be a filename\u001b[0m\u001b[0;34m\u001b[0m\u001b[0;34m\u001b[0m\u001b[0m\n\u001b[0;32m--> 150\u001b[0;31m             \u001b[0mfile_ref\u001b[0m\u001b[0;34m,\u001b[0m \u001b[0mencoding\u001b[0m \u001b[0;34m=\u001b[0m \u001b[0mopen_with_codecs\u001b[0m\u001b[0;34m(\u001b[0m\u001b[0mfirst_line\u001b[0m\u001b[0;34m,\u001b[0m \u001b[0;34m**\u001b[0m\u001b[0mencoding_kwargs\u001b[0m\u001b[0;34m)\u001b[0m\u001b[0;34m\u001b[0m\u001b[0;34m\u001b[0m\u001b[0m\n\u001b[0m\u001b[1;32m    151\u001b[0m     \u001b[0;32mreturn\u001b[0m \u001b[0mfile_ref\u001b[0m\u001b[0;34m,\u001b[0m \u001b[0mencoding\u001b[0m\u001b[0;34m\u001b[0m\u001b[0;34m\u001b[0m\u001b[0m\n\u001b[1;32m    152\u001b[0m \u001b[0;34m\u001b[0m\u001b[0m\n",
            "\u001b[0;32m/usr/local/lib/python3.11/dist-packages/lasio/reader.py\u001b[0m in \u001b[0;36mopen_with_codecs\u001b[0;34m(filename, encoding, encoding_errors, autodetect_encoding, autodetect_encoding_chars)\u001b[0m\n\u001b[1;32m    193\u001b[0m \u001b[0;34m\u001b[0m\u001b[0m\n\u001b[1;32m    194\u001b[0m     \u001b[0;31m# Forget [c]chardet - if we can locate the BOM we just assume that's correct.\u001b[0m\u001b[0;34m\u001b[0m\u001b[0;34m\u001b[0m\u001b[0m\n\u001b[0;32m--> 195\u001b[0;31m     \u001b[0mnbytes_test\u001b[0m \u001b[0;34m=\u001b[0m \u001b[0mmin\u001b[0m\u001b[0;34m(\u001b[0m\u001b[0;36m32\u001b[0m\u001b[0;34m,\u001b[0m \u001b[0mos\u001b[0m\u001b[0;34m.\u001b[0m\u001b[0mpath\u001b[0m\u001b[0;34m.\u001b[0m\u001b[0mgetsize\u001b[0m\u001b[0;34m(\u001b[0m\u001b[0mfilename\u001b[0m\u001b[0;34m)\u001b[0m\u001b[0;34m)\u001b[0m\u001b[0;34m\u001b[0m\u001b[0;34m\u001b[0m\u001b[0m\n\u001b[0m\u001b[1;32m    196\u001b[0m     \u001b[0;32mwith\u001b[0m \u001b[0mopen\u001b[0m\u001b[0;34m(\u001b[0m\u001b[0mfilename\u001b[0m\u001b[0;34m,\u001b[0m \u001b[0mmode\u001b[0m\u001b[0;34m=\u001b[0m\u001b[0;34m\"rb\"\u001b[0m\u001b[0;34m)\u001b[0m \u001b[0;32mas\u001b[0m \u001b[0mtest\u001b[0m\u001b[0;34m:\u001b[0m\u001b[0;34m\u001b[0m\u001b[0;34m\u001b[0m\u001b[0m\n\u001b[1;32m    197\u001b[0m         \u001b[0mraw\u001b[0m \u001b[0;34m=\u001b[0m \u001b[0mtest\u001b[0m\u001b[0;34m.\u001b[0m\u001b[0mread\u001b[0m\u001b[0;34m(\u001b[0m\u001b[0mnbytes_test\u001b[0m\u001b[0;34m)\u001b[0m\u001b[0;34m\u001b[0m\u001b[0;34m\u001b[0m\u001b[0m\n",
            "\u001b[0;32m/usr/lib/python3.11/genericpath.py\u001b[0m in \u001b[0;36mgetsize\u001b[0;34m(filename)\u001b[0m\n",
            "\u001b[0;31mFileNotFoundError\u001b[0m: [Errno 2] No such file or directory: '1brsa1080ces_12_fmi.las'"
          ]
        }
      ],
      "source": [
        "las = lasio.read(\"1brsa1080ces_12_fmi.las\")"
      ]
    },
    {
      "cell_type": "code",
      "execution_count": null,
      "id": "3036ff10-2277-4040-af3c-f878217e0ae6",
      "metadata": {
        "id": "3036ff10-2277-4040-af3c-f878217e0ae6",
        "outputId": "bd052c31-631b-4128-86b2-c318ba340a8f"
      },
      "outputs": [
        {
          "data": {
            "text/plain": [
              "dict_keys(['Version', 'Well', 'Curves', 'Parameter', 'Other'])"
            ]
          },
          "execution_count": 4,
          "metadata": {},
          "output_type": "execute_result"
        }
      ],
      "source": [
        "las.sections.keys()"
      ]
    },
    {
      "cell_type": "code",
      "execution_count": null,
      "id": "0153d10f-9e2d-4669-a8d5-d650fd7be088",
      "metadata": {
        "id": "0153d10f-9e2d-4669-a8d5-d650fd7be088",
        "outputId": "51c65d21-1553-4338-8d76-fc1ae60b9759"
      },
      "outputs": [
        {
          "data": {
            "text/plain": [
              "[HeaderItem(mnemonic=\"STRT\", unit=\"M\", value=\"4401.0072\", descr=\"START DEPTH\"),\n",
              " HeaderItem(mnemonic=\"STOP\", unit=\"M\", value=\"3478.9872\", descr=\"STOP DEPTH\"),\n",
              " HeaderItem(mnemonic=\"STEP\", unit=\"M\", value=\"-0.1524\", descr=\"STEP\"),\n",
              " HeaderItem(mnemonic=\"NULL\", unit=\"\", value=\"-999.25\", descr=\"NULL VALUE\"),\n",
              " HeaderItem(mnemonic=\"COMP\", unit=\"\", value=\"PETROBRAS\", descr=\"COMPANY\"),\n",
              " HeaderItem(mnemonic=\"WELL\", unit=\"\", value=\"1-BRSA-1080-CES\", descr=\"WELL\"),\n",
              " HeaderItem(mnemonic=\"FLD\", unit=\"\", value=\"BM-CE-2\", descr=\"FIELD\"),\n",
              " HeaderItem(mnemonic=\"LOC\", unit=\"\", value=\"SAD69\", descr=\"LOCATION\"),\n",
              " HeaderItem(mnemonic=\"CNTY\", unit=\"\", value=\"CEARA\", descr=\"COUNTY\"),\n",
              " HeaderItem(mnemonic=\"STAT\", unit=\"\", value=\"30096026232\", descr=\"STATE\"),\n",
              " HeaderItem(mnemonic=\"CTRY\", unit=\"\", value=\"BRASIL\", descr=\"COUNTRY\"),\n",
              " HeaderItem(mnemonic=\"API\", unit=\"\", value=\"30096026232\", descr=\"API NUMBER\"),\n",
              " HeaderItem(mnemonic=\"UWI\", unit=\"\", value=\"\", descr=\"UNIQUE WELL ID\"),\n",
              " HeaderItem(mnemonic=\"DATE\", unit=\"\", value=\"26/07/2012\", descr=\"LOG DATE\"),\n",
              " HeaderItem(mnemonic=\"SRVC\", unit=\"\", value=\"Schlumberger\", descr=\"SERVICE COMP\"),\n",
              " HeaderItem(mnemonic=\"LATI\", unit=\"DEG\", value=\"-02:49:00.793\", descr=\"LATITUDE\"),\n",
              " HeaderItem(mnemonic=\"LONG\", unit=\"DEG\", value=\"-38:36:54.737\", descr=\"LONGITUD\"),\n",
              " HeaderItem(mnemonic=\"GDAT\", unit=\"\", value=\"\", descr=\"GeoDetic Datum\")]"
            ]
          },
          "execution_count": 5,
          "metadata": {},
          "output_type": "execute_result"
        }
      ],
      "source": [
        "las.sections['Well']"
      ]
    },
    {
      "cell_type": "code",
      "execution_count": null,
      "id": "c6e4b01b-f726-44f2-af86-fa95167a8a56",
      "metadata": {
        "id": "c6e4b01b-f726-44f2-af86-fa95167a8a56",
        "outputId": "ab06a4db-6652-4f65-820c-7701e440c6fb"
      },
      "outputs": [
        {
          "name": "stdout",
          "output_type": "stream",
          "text": [
            "START DEPTH (STRT): \t\t 4401.0072\n",
            "STOP DEPTH (STOP): \t\t 3478.9872\n",
            "STEP (STEP): \t\t -0.1524\n",
            "NULL VALUE (NULL): \t\t -999.25\n",
            "COMPANY (COMP): \t\t PETROBRAS\n",
            "WELL (WELL): \t\t 1-BRSA-1080-CES\n",
            "FIELD (FLD): \t\t BM-CE-2\n",
            "LOCATION (LOC): \t\t SAD69\n",
            "COUNTY (CNTY): \t\t CEARA\n",
            "STATE (STAT): \t\t 30096026232\n",
            "COUNTRY (CTRY): \t\t BRASIL\n",
            "API NUMBER (API): \t\t 30096026232\n",
            "UNIQUE WELL ID (UWI): \t\t \n",
            "LOG DATE (DATE): \t\t 26/07/2012\n",
            "SERVICE COMPANY (SRVC): \t\t Schlumberger\n",
            "LATITUDE (LATI): \t\t -02:49:00.793\n",
            "LONGITUDE (LONG): \t\t -38:36:54.737\n",
            "GeoDetic Datum (GDAT): \t\t \n"
          ]
        }
      ],
      "source": [
        "for item in las.sections['Well']:\n",
        "    print (f'{item.descr} ({item.mnemonic}): \\t\\t {item.value}')"
      ]
    },
    {
      "cell_type": "code",
      "execution_count": null,
      "id": "ca6f765d-325e-4d73-b1af-f01dc5cc31ea",
      "metadata": {
        "id": "ca6f765d-325e-4d73-b1af-f01dc5cc31ea",
        "outputId": "1417ea42-60a2-4995-9499-ba15650ef365"
      },
      "outputs": [
        {
          "data": {
            "text/plain": [
              "[CurveItem(mnemonic=\"DEPT\", unit=\"M\", value=\"\", descr=\"DEPTH (BOREHOLE) {F10.4}\", original_mnemonic=\"DEPT\", data.shape=(6051,)),\n",
              " CurveItem(mnemonic=\"BS\", unit=\"IN\", value=\"\", descr=\"Bit Size {F13.4}\", original_mnemonic=\"BS\", data.shape=(6051,)),\n",
              " CurveItem(mnemonic=\"BHPR\", unit=\"PSI\", value=\"\", descr=\"Borehole Pressure {F13.4}\", original_mnemonic=\"BHPR\", data.shape=(6051,)),\n",
              " CurveItem(mnemonic=\"GTEM\", unit=\"DEGF\", value=\"\", descr=\"Generalized Borehole Temperature {F13.4}\", original_mnemonic=\"GTEM\", data.shape=(6051,)),\n",
              " CurveItem(mnemonic=\"RT\", unit=\"OHMM\", value=\"\", descr=\"True Resistivity {F13.4}\", original_mnemonic=\"RT\", data.shape=(6051,))]"
            ]
          },
          "execution_count": 10,
          "metadata": {},
          "output_type": "execute_result"
        }
      ],
      "source": [
        "las.sections['Curves']"
      ]
    },
    {
      "cell_type": "code",
      "execution_count": null,
      "id": "81fcf61b-6a94-4286-bbc3-30765cecbccc",
      "metadata": {
        "id": "81fcf61b-6a94-4286-bbc3-30765cecbccc",
        "outputId": "318d15bc-fb7a-4f61-df64-4db9f12d3a2e"
      },
      "outputs": [
        {
          "name": "stdout",
          "output_type": "stream",
          "text": [
            "Curve= DEPTH (BOREHOLE) {F10.4} DEPT \t\t  Unit= M\n",
            "Curve= Bit Size {F13.4} BS \t\t  Unit= IN\n",
            "Curve= Borehole Pressure {F13.4} BHPR \t\t  Unit= PSI\n",
            "Curve= Generalized Borehole Temperature {F13.4} GTEM \t\t  Unit= DEGF\n",
            "Curve= True Resistivity {F13.4} RT \t\t  Unit= OHMM\n"
          ]
        }
      ],
      "source": [
        "for item in las.curves:\n",
        "    print (f'Curve= {item.descr} {item.mnemonic} \\t\\t {item.value} Unit= {item.unit}')"
      ]
    },
    {
      "cell_type": "code",
      "execution_count": null,
      "id": "086988e7-7332-4999-b00a-6094aec4df55",
      "metadata": {
        "id": "086988e7-7332-4999-b00a-6094aec4df55",
        "outputId": "0cbb6272-131b-45b6-bec9-a00044f4fb16"
      },
      "outputs": [
        {
          "name": "stdout",
          "output_type": "stream",
          "text": [
            "DEPT\n",
            "BS\n",
            "BHPR\n",
            "GTEM\n",
            "RT\n"
          ]
        }
      ],
      "source": [
        "for item in las.curves:\n",
        "    print (item.mnemonic)"
      ]
    },
    {
      "cell_type": "code",
      "execution_count": null,
      "id": "2a33d1d4-a46a-4570-8b2a-8853d14e96a9",
      "metadata": {
        "id": "2a33d1d4-a46a-4570-8b2a-8853d14e96a9"
      },
      "outputs": [],
      "source": [
        "well = las.df()"
      ]
    },
    {
      "cell_type": "code",
      "execution_count": null,
      "id": "ed76c395-84f3-461b-99bb-6d7cd8597681",
      "metadata": {
        "id": "ed76c395-84f3-461b-99bb-6d7cd8597681",
        "outputId": "1f524052-dc9a-4ac4-82ab-59f102196c0e"
      },
      "outputs": [
        {
          "data": {
            "text/html": [
              "<div>\n",
              "<style scoped>\n",
              "    .dataframe tbody tr th:only-of-type {\n",
              "        vertical-align: middle;\n",
              "    }\n",
              "\n",
              "    .dataframe tbody tr th {\n",
              "        vertical-align: top;\n",
              "    }\n",
              "\n",
              "    .dataframe thead th {\n",
              "        text-align: right;\n",
              "    }\n",
              "</style>\n",
              "<table border=\"1\" class=\"dataframe\">\n",
              "  <thead>\n",
              "    <tr style=\"text-align: right;\">\n",
              "      <th></th>\n",
              "      <th>BS</th>\n",
              "      <th>BHPR</th>\n",
              "      <th>GTEM</th>\n",
              "      <th>RT</th>\n",
              "    </tr>\n",
              "    <tr>\n",
              "      <th>DEPT</th>\n",
              "      <th></th>\n",
              "      <th></th>\n",
              "      <th></th>\n",
              "      <th></th>\n",
              "    </tr>\n",
              "  </thead>\n",
              "  <tbody>\n",
              "    <tr>\n",
              "      <th>4401.0072</th>\n",
              "      <td>12.25</td>\n",
              "      <td>7951.1509</td>\n",
              "      <td>232.7377</td>\n",
              "      <td>NaN</td>\n",
              "    </tr>\n",
              "    <tr>\n",
              "      <th>4400.8548</th>\n",
              "      <td>12.25</td>\n",
              "      <td>7950.8755</td>\n",
              "      <td>232.7310</td>\n",
              "      <td>NaN</td>\n",
              "    </tr>\n",
              "    <tr>\n",
              "      <th>4400.7024</th>\n",
              "      <td>12.25</td>\n",
              "      <td>7950.6006</td>\n",
              "      <td>232.7243</td>\n",
              "      <td>NaN</td>\n",
              "    </tr>\n",
              "    <tr>\n",
              "      <th>4400.5500</th>\n",
              "      <td>12.25</td>\n",
              "      <td>7950.3252</td>\n",
              "      <td>232.7177</td>\n",
              "      <td>NaN</td>\n",
              "    </tr>\n",
              "    <tr>\n",
              "      <th>4400.3976</th>\n",
              "      <td>12.25</td>\n",
              "      <td>7950.0498</td>\n",
              "      <td>232.7110</td>\n",
              "      <td>NaN</td>\n",
              "    </tr>\n",
              "  </tbody>\n",
              "</table>\n",
              "</div>"
            ],
            "text/plain": [
              "              BS       BHPR      GTEM  RT\n",
              "DEPT                                     \n",
              "4401.0072  12.25  7951.1509  232.7377 NaN\n",
              "4400.8548  12.25  7950.8755  232.7310 NaN\n",
              "4400.7024  12.25  7950.6006  232.7243 NaN\n",
              "4400.5500  12.25  7950.3252  232.7177 NaN\n",
              "4400.3976  12.25  7950.0498  232.7110 NaN"
            ]
          },
          "execution_count": 14,
          "metadata": {},
          "output_type": "execute_result"
        }
      ],
      "source": [
        "well.head()"
      ]
    },
    {
      "cell_type": "code",
      "execution_count": null,
      "id": "9165e910-536e-4dbb-945d-bc97b2735406",
      "metadata": {
        "id": "9165e910-536e-4dbb-945d-bc97b2735406",
        "outputId": "adeb238d-f486-45e5-f692-0fafd0233c98"
      },
      "outputs": [
        {
          "data": {
            "text/html": [
              "<div>\n",
              "<style scoped>\n",
              "    .dataframe tbody tr th:only-of-type {\n",
              "        vertical-align: middle;\n",
              "    }\n",
              "\n",
              "    .dataframe tbody tr th {\n",
              "        vertical-align: top;\n",
              "    }\n",
              "\n",
              "    .dataframe thead th {\n",
              "        text-align: right;\n",
              "    }\n",
              "</style>\n",
              "<table border=\"1\" class=\"dataframe\">\n",
              "  <thead>\n",
              "    <tr style=\"text-align: right;\">\n",
              "      <th></th>\n",
              "      <th>BS</th>\n",
              "      <th>BHPR</th>\n",
              "      <th>GTEM</th>\n",
              "      <th>RT</th>\n",
              "    </tr>\n",
              "  </thead>\n",
              "  <tbody>\n",
              "    <tr>\n",
              "      <th>count</th>\n",
              "      <td>6051.00</td>\n",
              "      <td>6051.000000</td>\n",
              "      <td>6051.000000</td>\n",
              "      <td>0.0</td>\n",
              "    </tr>\n",
              "    <tr>\n",
              "      <th>mean</th>\n",
              "      <td>12.25</td>\n",
              "      <td>7118.259810</td>\n",
              "      <td>212.548216</td>\n",
              "      <td>NaN</td>\n",
              "    </tr>\n",
              "    <tr>\n",
              "      <th>std</th>\n",
              "      <td>0.00</td>\n",
              "      <td>480.989211</td>\n",
              "      <td>11.659287</td>\n",
              "      <td>NaN</td>\n",
              "    </tr>\n",
              "    <tr>\n",
              "      <th>min</th>\n",
              "      <td>12.25</td>\n",
              "      <td>6285.368700</td>\n",
              "      <td>192.358700</td>\n",
              "      <td>NaN</td>\n",
              "    </tr>\n",
              "    <tr>\n",
              "      <th>25%</th>\n",
              "      <td>12.25</td>\n",
              "      <td>6701.814250</td>\n",
              "      <td>202.453450</td>\n",
              "      <td>NaN</td>\n",
              "    </tr>\n",
              "    <tr>\n",
              "      <th>50%</th>\n",
              "      <td>12.25</td>\n",
              "      <td>7118.259800</td>\n",
              "      <td>212.548200</td>\n",
              "      <td>NaN</td>\n",
              "    </tr>\n",
              "    <tr>\n",
              "      <th>75%</th>\n",
              "      <td>12.25</td>\n",
              "      <td>7534.705600</td>\n",
              "      <td>222.642950</td>\n",
              "      <td>NaN</td>\n",
              "    </tr>\n",
              "    <tr>\n",
              "      <th>max</th>\n",
              "      <td>12.25</td>\n",
              "      <td>7951.150900</td>\n",
              "      <td>232.737700</td>\n",
              "      <td>NaN</td>\n",
              "    </tr>\n",
              "  </tbody>\n",
              "</table>\n",
              "</div>"
            ],
            "text/plain": [
              "            BS         BHPR         GTEM   RT\n",
              "count  6051.00  6051.000000  6051.000000  0.0\n",
              "mean     12.25  7118.259810   212.548216  NaN\n",
              "std       0.00   480.989211    11.659287  NaN\n",
              "min      12.25  6285.368700   192.358700  NaN\n",
              "25%      12.25  6701.814250   202.453450  NaN\n",
              "50%      12.25  7118.259800   212.548200  NaN\n",
              "75%      12.25  7534.705600   222.642950  NaN\n",
              "max      12.25  7951.150900   232.737700  NaN"
            ]
          },
          "execution_count": 15,
          "metadata": {},
          "output_type": "execute_result"
        }
      ],
      "source": [
        "well.describe()"
      ]
    },
    {
      "cell_type": "code",
      "execution_count": null,
      "id": "1701de7f-64fa-4746-aa97-8e6547cd84aa",
      "metadata": {
        "id": "1701de7f-64fa-4746-aa97-8e6547cd84aa",
        "outputId": "76553b76-14ca-4872-999d-c101a6d0eed6"
      },
      "outputs": [
        {
          "name": "stdout",
          "output_type": "stream",
          "text": [
            "<class 'pandas.core.frame.DataFrame'>\n",
            "Index: 6051 entries, 4401.0072 to 3478.9872\n",
            "Data columns (total 4 columns):\n",
            " #   Column  Non-Null Count  Dtype  \n",
            "---  ------  --------------  -----  \n",
            " 0   BS      6051 non-null   float64\n",
            " 1   BHPR    6051 non-null   float64\n",
            " 2   GTEM    6051 non-null   float64\n",
            " 3   RT      0 non-null      float64\n",
            "dtypes: float64(4)\n",
            "memory usage: 236.4 KB\n"
          ]
        }
      ],
      "source": [
        "well.info()"
      ]
    },
    {
      "cell_type": "code",
      "execution_count": null,
      "id": "35bddda4-22eb-4b8c-bc8d-582c786cd0ed",
      "metadata": {
        "id": "35bddda4-22eb-4b8c-bc8d-582c786cd0ed",
        "outputId": "b38b4a27-8a65-4a71-95a9-25e6367b2434"
      },
      "outputs": [
        {
          "data": {
            "text/html": [
              "<div>\n",
              "<style scoped>\n",
              "    .dataframe tbody tr th:only-of-type {\n",
              "        vertical-align: middle;\n",
              "    }\n",
              "\n",
              "    .dataframe tbody tr th {\n",
              "        vertical-align: top;\n",
              "    }\n",
              "\n",
              "    .dataframe thead th {\n",
              "        text-align: right;\n",
              "    }\n",
              "</style>\n",
              "<table border=\"1\" class=\"dataframe\">\n",
              "  <thead>\n",
              "    <tr style=\"text-align: right;\">\n",
              "      <th></th>\n",
              "      <th>BS</th>\n",
              "      <th>BHPR</th>\n",
              "      <th>GTEM</th>\n",
              "      <th>RT</th>\n",
              "      <th>SP:1</th>\n",
              "      <th>SPAR</th>\n",
              "      <th>ITT</th>\n",
              "      <th>SPHI</th>\n",
              "      <th>SVEL</th>\n",
              "      <th>SSVE</th>\n",
              "      <th>...</th>\n",
              "      <th>AT10:2</th>\n",
              "      <th>AT20:2</th>\n",
              "      <th>AT30:2</th>\n",
              "      <th>AT60:2</th>\n",
              "      <th>AT90:2</th>\n",
              "      <th>AF10</th>\n",
              "      <th>AF20:2</th>\n",
              "      <th>AF30:2</th>\n",
              "      <th>AF60:2</th>\n",
              "      <th>AF90:2</th>\n",
              "    </tr>\n",
              "    <tr>\n",
              "      <th>DEPT</th>\n",
              "      <th></th>\n",
              "      <th></th>\n",
              "      <th></th>\n",
              "      <th></th>\n",
              "      <th></th>\n",
              "      <th></th>\n",
              "      <th></th>\n",
              "      <th></th>\n",
              "      <th></th>\n",
              "      <th></th>\n",
              "      <th></th>\n",
              "      <th></th>\n",
              "      <th></th>\n",
              "      <th></th>\n",
              "      <th></th>\n",
              "      <th></th>\n",
              "      <th></th>\n",
              "      <th></th>\n",
              "      <th></th>\n",
              "      <th></th>\n",
              "      <th></th>\n",
              "    </tr>\n",
              "  </thead>\n",
              "  <tbody>\n",
              "    <tr>\n",
              "      <th>4900.4220</th>\n",
              "      <td>12.25</td>\n",
              "      <td>64497.1680</td>\n",
              "      <td>103.6852</td>\n",
              "      <td>0.000000e+00</td>\n",
              "      <td>25.6250</td>\n",
              "      <td>25.6250</td>\n",
              "      <td>0.0000</td>\n",
              "      <td>0.0000</td>\n",
              "      <td>0.0000</td>\n",
              "      <td>0.0000</td>\n",
              "      <td>...</td>\n",
              "      <td>2.7935</td>\n",
              "      <td>3.1309</td>\n",
              "      <td>3.4133</td>\n",
              "      <td>3.3922</td>\n",
              "      <td>3.3418</td>\n",
              "      <td>2.7942</td>\n",
              "      <td>3.1239</td>\n",
              "      <td>3.4132</td>\n",
              "      <td>3.3928</td>\n",
              "      <td>3.3843</td>\n",
              "    </tr>\n",
              "    <tr>\n",
              "      <th>4900.2696</th>\n",
              "      <td>12.25</td>\n",
              "      <td>64495.1680</td>\n",
              "      <td>103.6826</td>\n",
              "      <td>1.000000e+07</td>\n",
              "      <td>20.8125</td>\n",
              "      <td>20.8125</td>\n",
              "      <td>0.0000</td>\n",
              "      <td>0.0000</td>\n",
              "      <td>0.0000</td>\n",
              "      <td>0.0000</td>\n",
              "      <td>...</td>\n",
              "      <td>2.7931</td>\n",
              "      <td>3.1325</td>\n",
              "      <td>3.4153</td>\n",
              "      <td>3.3947</td>\n",
              "      <td>3.3449</td>\n",
              "      <td>2.7933</td>\n",
              "      <td>3.1239</td>\n",
              "      <td>3.4130</td>\n",
              "      <td>3.3922</td>\n",
              "      <td>3.3842</td>\n",
              "    </tr>\n",
              "    <tr>\n",
              "      <th>4900.1172</th>\n",
              "      <td>12.25</td>\n",
              "      <td>64493.1641</td>\n",
              "      <td>103.6799</td>\n",
              "      <td>0.000000e+00</td>\n",
              "      <td>25.5000</td>\n",
              "      <td>25.5000</td>\n",
              "      <td>0.0001</td>\n",
              "      <td>0.2885</td>\n",
              "      <td>2930.3987</td>\n",
              "      <td>1436.1575</td>\n",
              "      <td>...</td>\n",
              "      <td>2.7922</td>\n",
              "      <td>3.1326</td>\n",
              "      <td>3.4153</td>\n",
              "      <td>3.3944</td>\n",
              "      <td>3.3454</td>\n",
              "      <td>2.7926</td>\n",
              "      <td>3.1236</td>\n",
              "      <td>3.4124</td>\n",
              "      <td>3.3912</td>\n",
              "      <td>3.3840</td>\n",
              "    </tr>\n",
              "    <tr>\n",
              "      <th>4899.9648</th>\n",
              "      <td>12.25</td>\n",
              "      <td>64491.1563</td>\n",
              "      <td>103.6773</td>\n",
              "      <td>1.000000e+07</td>\n",
              "      <td>29.2500</td>\n",
              "      <td>29.2500</td>\n",
              "      <td>0.0001</td>\n",
              "      <td>0.2885</td>\n",
              "      <td>2930.3987</td>\n",
              "      <td>1436.1575</td>\n",
              "      <td>...</td>\n",
              "      <td>2.7905</td>\n",
              "      <td>3.1303</td>\n",
              "      <td>3.4114</td>\n",
              "      <td>3.3888</td>\n",
              "      <td>3.3405</td>\n",
              "      <td>2.7917</td>\n",
              "      <td>3.1235</td>\n",
              "      <td>3.4120</td>\n",
              "      <td>3.3903</td>\n",
              "      <td>3.3839</td>\n",
              "    </tr>\n",
              "    <tr>\n",
              "      <th>4899.8124</th>\n",
              "      <td>12.25</td>\n",
              "      <td>64489.1484</td>\n",
              "      <td>103.6747</td>\n",
              "      <td>1.000000e+07</td>\n",
              "      <td>29.8125</td>\n",
              "      <td>29.8125</td>\n",
              "      <td>0.0002</td>\n",
              "      <td>0.2885</td>\n",
              "      <td>2930.3987</td>\n",
              "      <td>1436.1575</td>\n",
              "      <td>...</td>\n",
              "      <td>2.7887</td>\n",
              "      <td>3.1274</td>\n",
              "      <td>3.4086</td>\n",
              "      <td>3.3871</td>\n",
              "      <td>3.3401</td>\n",
              "      <td>2.7909</td>\n",
              "      <td>3.1233</td>\n",
              "      <td>3.4116</td>\n",
              "      <td>3.3900</td>\n",
              "      <td>3.3840</td>\n",
              "    </tr>\n",
              "  </tbody>\n",
              "</table>\n",
              "<p>5 rows × 47 columns</p>\n",
              "</div>"
            ],
            "text/plain": [
              "              BS        BHPR      GTEM            RT     SP:1     SPAR  \\\n",
              "DEPT                                                                     \n",
              "4900.4220  12.25  64497.1680  103.6852  0.000000e+00  25.6250  25.6250   \n",
              "4900.2696  12.25  64495.1680  103.6826  1.000000e+07  20.8125  20.8125   \n",
              "4900.1172  12.25  64493.1641  103.6799  0.000000e+00  25.5000  25.5000   \n",
              "4899.9648  12.25  64491.1563  103.6773  1.000000e+07  29.2500  29.2500   \n",
              "4899.8124  12.25  64489.1484  103.6747  1.000000e+07  29.8125  29.8125   \n",
              "\n",
              "              ITT    SPHI       SVEL       SSVE  ...  AT10:2  AT20:2  AT30:2  \\\n",
              "DEPT                                             ...                           \n",
              "4900.4220  0.0000  0.0000     0.0000     0.0000  ...  2.7935  3.1309  3.4133   \n",
              "4900.2696  0.0000  0.0000     0.0000     0.0000  ...  2.7931  3.1325  3.4153   \n",
              "4900.1172  0.0001  0.2885  2930.3987  1436.1575  ...  2.7922  3.1326  3.4153   \n",
              "4899.9648  0.0001  0.2885  2930.3987  1436.1575  ...  2.7905  3.1303  3.4114   \n",
              "4899.8124  0.0002  0.2885  2930.3987  1436.1575  ...  2.7887  3.1274  3.4086   \n",
              "\n",
              "           AT60:2  AT90:2    AF10  AF20:2  AF30:2  AF60:2  AF90:2  \n",
              "DEPT                                                               \n",
              "4900.4220  3.3922  3.3418  2.7942  3.1239  3.4132  3.3928  3.3843  \n",
              "4900.2696  3.3947  3.3449  2.7933  3.1239  3.4130  3.3922  3.3842  \n",
              "4900.1172  3.3944  3.3454  2.7926  3.1236  3.4124  3.3912  3.3840  \n",
              "4899.9648  3.3888  3.3405  2.7917  3.1235  3.4120  3.3903  3.3839  \n",
              "4899.8124  3.3871  3.3401  2.7909  3.1233  3.4116  3.3900  3.3840  \n",
              "\n",
              "[5 rows x 47 columns]"
            ]
          },
          "execution_count": 109,
          "metadata": {},
          "output_type": "execute_result"
        }
      ],
      "source": [
        "import lasio\n",
        "import pandas as pd\n",
        "las1=lasio.read(\"1-brsa-1175-ces_12_ai.las\")\n",
        "wellA2=las1.df()\n",
        "wellA2.head()"
      ]
    },
    {
      "cell_type": "code",
      "execution_count": null,
      "id": "aee1e633-563a-418e-8ebc-90c02aac6730",
      "metadata": {
        "id": "aee1e633-563a-418e-8ebc-90c02aac6730",
        "outputId": "a9c20b00-7a7f-4318-f3fb-594691861db0"
      },
      "outputs": [
        {
          "ename": "ValueError",
          "evalue": "Boolean, None and 'sym' are valid options, 'RT' is given.",
          "output_type": "error",
          "traceback": [
            "\u001b[0;31m---------------------------------------------------------------------------\u001b[0m",
            "\u001b[0;31mValueError\u001b[0m                                Traceback (most recent call last)",
            "Cell \u001b[0;32mIn[107], line 1\u001b[0m\n\u001b[0;32m----> 1\u001b[0m wellA2\u001b[38;5;241m.\u001b[39mplot(logy\u001b[38;5;241m=\u001b[39m\u001b[38;5;124m'\u001b[39m\u001b[38;5;124mRT\u001b[39m\u001b[38;5;124m'\u001b[39m)\n",
            "File \u001b[0;32m/opt/anaconda3/lib/python3.11/site-packages/pandas/plotting/_core.py:1031\u001b[0m, in \u001b[0;36mPlotAccessor.__call__\u001b[0;34m(self, *args, **kwargs)\u001b[0m\n\u001b[1;32m   1028\u001b[0m             label_name \u001b[38;5;241m=\u001b[39m label_kw \u001b[38;5;129;01mor\u001b[39;00m data\u001b[38;5;241m.\u001b[39mcolumns\n\u001b[1;32m   1029\u001b[0m             data\u001b[38;5;241m.\u001b[39mcolumns \u001b[38;5;241m=\u001b[39m label_name\n\u001b[0;32m-> 1031\u001b[0m \u001b[38;5;28;01mreturn\u001b[39;00m plot_backend\u001b[38;5;241m.\u001b[39mplot(data, kind\u001b[38;5;241m=\u001b[39mkind, \u001b[38;5;241m*\u001b[39m\u001b[38;5;241m*\u001b[39mkwargs)\n",
            "File \u001b[0;32m/opt/anaconda3/lib/python3.11/site-packages/pandas/plotting/_matplotlib/__init__.py:71\u001b[0m, in \u001b[0;36mplot\u001b[0;34m(data, kind, **kwargs)\u001b[0m\n\u001b[1;32m     69\u001b[0m         kwargs[\u001b[38;5;124m\"\u001b[39m\u001b[38;5;124max\u001b[39m\u001b[38;5;124m\"\u001b[39m] \u001b[38;5;241m=\u001b[39m \u001b[38;5;28mgetattr\u001b[39m(ax, \u001b[38;5;124m\"\u001b[39m\u001b[38;5;124mleft_ax\u001b[39m\u001b[38;5;124m\"\u001b[39m, ax)\n\u001b[1;32m     70\u001b[0m plot_obj \u001b[38;5;241m=\u001b[39m PLOT_CLASSES[kind](data, \u001b[38;5;241m*\u001b[39m\u001b[38;5;241m*\u001b[39mkwargs)\n\u001b[0;32m---> 71\u001b[0m plot_obj\u001b[38;5;241m.\u001b[39mgenerate()\n\u001b[1;32m     72\u001b[0m plot_obj\u001b[38;5;241m.\u001b[39mdraw()\n\u001b[1;32m     73\u001b[0m \u001b[38;5;28;01mreturn\u001b[39;00m plot_obj\u001b[38;5;241m.\u001b[39mresult\n",
            "File \u001b[0;32m/opt/anaconda3/lib/python3.11/site-packages/pandas/plotting/_matplotlib/core.py:452\u001b[0m, in \u001b[0;36mMPLPlot.generate\u001b[0;34m(self)\u001b[0m\n\u001b[1;32m    450\u001b[0m \u001b[38;5;28mself\u001b[39m\u001b[38;5;241m.\u001b[39m_args_adjust()\n\u001b[1;32m    451\u001b[0m \u001b[38;5;28mself\u001b[39m\u001b[38;5;241m.\u001b[39m_compute_plot_data()\n\u001b[0;32m--> 452\u001b[0m \u001b[38;5;28mself\u001b[39m\u001b[38;5;241m.\u001b[39m_setup_subplots()\n\u001b[1;32m    453\u001b[0m \u001b[38;5;28mself\u001b[39m\u001b[38;5;241m.\u001b[39m_make_plot()\n\u001b[1;32m    454\u001b[0m \u001b[38;5;28mself\u001b[39m\u001b[38;5;241m.\u001b[39m_add_table()\n",
            "File \u001b[0;32m/opt/anaconda3/lib/python3.11/site-packages/pandas/plotting/_matplotlib/core.py:527\u001b[0m, in \u001b[0;36mMPLPlot._setup_subplots\u001b[0;34m(self)\u001b[0m\n\u001b[1;32m    525\u001b[0m \u001b[38;5;28;01mif\u001b[39;00m input_log \u001b[38;5;241m-\u001b[39m valid_log:\n\u001b[1;32m    526\u001b[0m     invalid_log \u001b[38;5;241m=\u001b[39m \u001b[38;5;28mnext\u001b[39m(\u001b[38;5;28miter\u001b[39m(input_log \u001b[38;5;241m-\u001b[39m valid_log))\n\u001b[0;32m--> 527\u001b[0m     \u001b[38;5;28;01mraise\u001b[39;00m \u001b[38;5;167;01mValueError\u001b[39;00m(\n\u001b[1;32m    528\u001b[0m         \u001b[38;5;124mf\u001b[39m\u001b[38;5;124m\"\u001b[39m\u001b[38;5;124mBoolean, None and \u001b[39m\u001b[38;5;124m'\u001b[39m\u001b[38;5;124msym\u001b[39m\u001b[38;5;124m'\u001b[39m\u001b[38;5;124m are valid options, \u001b[39m\u001b[38;5;124m'\u001b[39m\u001b[38;5;132;01m{\u001b[39;00minvalid_log\u001b[38;5;132;01m}\u001b[39;00m\u001b[38;5;124m'\u001b[39m\u001b[38;5;124m is given.\u001b[39m\u001b[38;5;124m\"\u001b[39m\n\u001b[1;32m    529\u001b[0m     )\n\u001b[1;32m    531\u001b[0m \u001b[38;5;28;01mif\u001b[39;00m \u001b[38;5;28mself\u001b[39m\u001b[38;5;241m.\u001b[39mlogx \u001b[38;5;129;01mis\u001b[39;00m \u001b[38;5;28;01mTrue\u001b[39;00m \u001b[38;5;129;01mor\u001b[39;00m \u001b[38;5;28mself\u001b[39m\u001b[38;5;241m.\u001b[39mloglog \u001b[38;5;129;01mis\u001b[39;00m \u001b[38;5;28;01mTrue\u001b[39;00m:\n\u001b[1;32m    532\u001b[0m     [a\u001b[38;5;241m.\u001b[39mset_xscale(\u001b[38;5;124m\"\u001b[39m\u001b[38;5;124mlog\u001b[39m\u001b[38;5;124m\"\u001b[39m) \u001b[38;5;28;01mfor\u001b[39;00m a \u001b[38;5;129;01min\u001b[39;00m axes]\n",
            "\u001b[0;31mValueError\u001b[0m: Boolean, None and 'sym' are valid options, 'RT' is given."
          ]
        },
        {
          "data": {
            "image/png": "[encoded data removed]",
            "text/plain": [
              "<Figure size 640x480 with 1 Axes>"
            ]
          },
          "metadata": {},
          "output_type": "display_data"
        }
      ],
      "source": [
        "wellA2.plot(logy='RT')"
      ]
    },
    {
      "cell_type": "code",
      "execution_count": null,
      "id": "b8ceda24-a1c9-4f8d-a79a-0f12daee8a81",
      "metadata": {
        "id": "b8ceda24-a1c9-4f8d-a79a-0f12daee8a81",
        "outputId": "d174162d-e16c-427d-acef-4edc2553b552"
      },
      "outputs": [
        {
          "data": {
            "text/plain": [
              "[CurveItem(mnemonic=\"DEPT\", unit=\"M\", value=\"\", descr=\"DEPTH (BOREHOLE) {F10.4}\", original_mnemonic=\"DEPT\", data.shape=(6224,)),\n",
              " CurveItem(mnemonic=\"BS\", unit=\"IN\", value=\"\", descr=\"Bit Size {F13.4}\", original_mnemonic=\"BS\", data.shape=(6224,)),\n",
              " CurveItem(mnemonic=\"BHPR\", unit=\"KPA\", value=\"\", descr=\"Borehole Pressure {F13.4}\", original_mnemonic=\"BHPR\", data.shape=(6224,)),\n",
              " CurveItem(mnemonic=\"GTEM\", unit=\"DEGC\", value=\"\", descr=\"Generalized Borehole Temperature {F13.4}\", original_mnemonic=\"GTEM\", data.shape=(6224,)),\n",
              " CurveItem(mnemonic=\"RT\", unit=\"OHMM\", value=\"\", descr=\"True Resistivity {F13.4}\", original_mnemonic=\"RT\", data.shape=(6224,)),\n",
              " CurveItem(mnemonic=\"SP:1\", unit=\"MV\", value=\"\", descr=\"SP Shifted {F13.4}\", original_mnemonic=\"SP\", data.shape=(6224,)),\n",
              " CurveItem(mnemonic=\"SPAR\", unit=\"MV\", value=\"\", descr=\"SP Armor Return {F13.4}\", original_mnemonic=\"SPAR\", data.shape=(6224,)),\n",
              " CurveItem(mnemonic=\"ITT\", unit=\"S\", value=\"\", descr=\"Integrated Transit Time {F13.4}\", original_mnemonic=\"ITT\", data.shape=(6224,)),\n",
              " CurveItem(mnemonic=\"SPHI\", unit=\"V/V\", value=\"\", descr=\"Sonic Porosity {F13.4}\", original_mnemonic=\"SPHI\", data.shape=(6224,)),\n",
              " CurveItem(mnemonic=\"SVEL\", unit=\"M/S\", value=\"\", descr=\"Sonic Velocity {F13.4}\", original_mnemonic=\"SVEL\", data.shape=(6224,)),\n",
              " CurveItem(mnemonic=\"SSVE\", unit=\"M/S\", value=\"\", descr=\"Sonic Shear Velocity {F13.4}\", original_mnemonic=\"SSVE\", data.shape=(6224,)),\n",
              " CurveItem(mnemonic=\"DTSM\", unit=\"US/F\", value=\"\", descr=\"Delta-T Shear {F13.4}\", original_mnemonic=\"DTSM\", data.shape=(6224,)),\n",
              " CurveItem(mnemonic=\"PR\", unit=\"\", value=\"\", descr=\"Poisson's Ratio {F13.4}\", original_mnemonic=\"PR\", data.shape=(6224,)),\n",
              " CurveItem(mnemonic=\"VPVS\", unit=\"\", value=\"\", descr=\"Compressional to Shear Velocity Ratio {F13.4}\", original_mnemonic=\"VPVS\", data.shape=(6224,)),\n",
              " CurveItem(mnemonic=\"SOBS\", unit=\"IN\", value=\"\", descr=\"Borehole Size {F13.4}\", original_mnemonic=\"SOBS\", data.shape=(6224,)),\n",
              " CurveItem(mnemonic=\"AO10:1\", unit=\"OHMM\", value=\"\", descr=\"Array Induction One Foot Resistivity A10 {F13.4}\", original_mnemonic=\"AO10\", data.shape=(6224,)),\n",
              " CurveItem(mnemonic=\"AO20:1\", unit=\"OHMM\", value=\"\", descr=\"Array Induction One Foot Resistivity A20 {F13.4}\", original_mnemonic=\"AO20\", data.shape=(6224,)),\n",
              " CurveItem(mnemonic=\"AO30:1\", unit=\"OHMM\", value=\"\", descr=\"Array Induction One Foot Resistivity A30 {F13.4}\", original_mnemonic=\"AO30\", data.shape=(6224,)),\n",
              " CurveItem(mnemonic=\"AO60:1\", unit=\"OHMM\", value=\"\", descr=\"Array Induction One Foot Resistivity A60 {F13.4}\", original_mnemonic=\"AO60\", data.shape=(6224,)),\n",
              " CurveItem(mnemonic=\"AO90:1\", unit=\"OHMM\", value=\"\", descr=\"Array Induction One Foot Resistivity A90 {F13.4}\", original_mnemonic=\"AO90\", data.shape=(6224,)),\n",
              " CurveItem(mnemonic=\"AT10:1\", unit=\"OHMM\", value=\"\", descr=\"Array Induction Two Foot Resistivity A10 {F13.4}\", original_mnemonic=\"AT10\", data.shape=(6224,)),\n",
              " CurveItem(mnemonic=\"AT20:1\", unit=\"OHMM\", value=\"\", descr=\"Array Induction Two Foot Resistivity A20 {F13.4}\", original_mnemonic=\"AT20\", data.shape=(6224,)),\n",
              " CurveItem(mnemonic=\"AT30:1\", unit=\"OHMM\", value=\"\", descr=\"Array Induction Two Foot Resistivity A30 {F13.4}\", original_mnemonic=\"AT30\", data.shape=(6224,)),\n",
              " CurveItem(mnemonic=\"AT60:1\", unit=\"OHMM\", value=\"\", descr=\"Array Induction Two Foot Resistivity A60 {F13.4}\", original_mnemonic=\"AT60\", data.shape=(6224,)),\n",
              " CurveItem(mnemonic=\"AT90:1\", unit=\"OHMM\", value=\"\", descr=\"Array Induction Two Foot Resistivity A90 {F13.4}\", original_mnemonic=\"AT90\", data.shape=(6224,)),\n",
              " CurveItem(mnemonic=\"AF20:1\", unit=\"OHMM\", value=\"\", descr=\"Array Induction Four Foot Resistivity A20 {F13.4}\", original_mnemonic=\"AF20\", data.shape=(6224,)),\n",
              " CurveItem(mnemonic=\"AF30:1\", unit=\"OHMM\", value=\"\", descr=\"Array Induction Four Foot Resistivity A30 {F13.4}\", original_mnemonic=\"AF30\", data.shape=(6224,)),\n",
              " CurveItem(mnemonic=\"AF60:1\", unit=\"OHMM\", value=\"\", descr=\"Array Induction Four Foot Resistivity A60 {F13.4}\", original_mnemonic=\"AF60\", data.shape=(6224,)),\n",
              " CurveItem(mnemonic=\"AF90:1\", unit=\"OHMM\", value=\"\", descr=\"Array Induction Four Foot Resistivity A90 {F13.4}\", original_mnemonic=\"AF90\", data.shape=(6224,)),\n",
              " CurveItem(mnemonic=\"AORT\", unit=\"OHMM\", value=\"\", descr=\"Array Induction One Foot Rt {F13.4}\", original_mnemonic=\"AORT\", data.shape=(6224,)),\n",
              " CurveItem(mnemonic=\"AORX\", unit=\"OHMM\", value=\"\", descr=\"Array Induction One Foot Rxo {F13.4}\", original_mnemonic=\"AORX\", data.shape=(6224,)),\n",
              " CurveItem(mnemonic=\"AOPR[0]\", unit=\"OHMM\", value=\"\", descr=\"Array Induction One Foot Radial Resistivity Profile {AF13.4}\", original_mnemonic=\"AOPR[0]\", data.shape=(6224,)),\n",
              " CurveItem(mnemonic=\"SP:2\", unit=\"MV\", value=\"\", descr=\"Spontaneous Potential {F13.4}\", original_mnemonic=\"SP\", data.shape=(6224,)),\n",
              " CurveItem(mnemonic=\"AO10:2\", unit=\"OHMM\", value=\"\", descr=\"Array Induction One Foot Resistivity A10 {F13.4}\", original_mnemonic=\"AO10\", data.shape=(6224,)),\n",
              " CurveItem(mnemonic=\"AO20:2\", unit=\"OHMM\", value=\"\", descr=\"Array Induction One Foot Resistivity A20 {F13.4}\", original_mnemonic=\"AO20\", data.shape=(6224,)),\n",
              " CurveItem(mnemonic=\"AO30:2\", unit=\"OHMM\", value=\"\", descr=\"Array Induction One Foot Resistivity A30 {F13.4}\", original_mnemonic=\"AO30\", data.shape=(6224,)),\n",
              " CurveItem(mnemonic=\"AO60:2\", unit=\"OHMM\", value=\"\", descr=\"Array Induction One Foot Resistivity A60 {F13.4}\", original_mnemonic=\"AO60\", data.shape=(6224,)),\n",
              " CurveItem(mnemonic=\"AO90:2\", unit=\"OHMM\", value=\"\", descr=\"Array Induction One Foot Resistivity A90 {F13.4}\", original_mnemonic=\"AO90\", data.shape=(6224,)),\n",
              " CurveItem(mnemonic=\"AT10:2\", unit=\"OHMM\", value=\"\", descr=\"Array Induction Two Foot Resistivity A10 {F13.4}\", original_mnemonic=\"AT10\", data.shape=(6224,)),\n",
              " CurveItem(mnemonic=\"AT20:2\", unit=\"OHMM\", value=\"\", descr=\"Array Induction Two Foot Resistivity A20 {F13.4}\", original_mnemonic=\"AT20\", data.shape=(6224,)),\n",
              " CurveItem(mnemonic=\"AT30:2\", unit=\"OHMM\", value=\"\", descr=\"Array Induction Two Foot Resistivity A30 {F13.4}\", original_mnemonic=\"AT30\", data.shape=(6224,)),\n",
              " CurveItem(mnemonic=\"AT60:2\", unit=\"OHMM\", value=\"\", descr=\"Array Induction Two Foot Resistivity A60 {F13.4}\", original_mnemonic=\"AT60\", data.shape=(6224,)),\n",
              " CurveItem(mnemonic=\"AT90:2\", unit=\"OHMM\", value=\"\", descr=\"Array Induction Two Foot Resistivity A90 {F13.4}\", original_mnemonic=\"AT90\", data.shape=(6224,)),\n",
              " CurveItem(mnemonic=\"AF10\", unit=\"OHMM\", value=\"\", descr=\"Array Induction Four Foot Resistivity A10 {F13.4}\", original_mnemonic=\"AF10\", data.shape=(6224,)),\n",
              " CurveItem(mnemonic=\"AF20:2\", unit=\"OHMM\", value=\"\", descr=\"Array Induction Four Foot Resistivity A20 {F13.4}\", original_mnemonic=\"AF20\", data.shape=(6224,)),\n",
              " CurveItem(mnemonic=\"AF30:2\", unit=\"OHMM\", value=\"\", descr=\"Array Induction Four Foot Resistivity A30 {F13.4}\", original_mnemonic=\"AF30\", data.shape=(6224,)),\n",
              " CurveItem(mnemonic=\"AF60:2\", unit=\"OHMM\", value=\"\", descr=\"Array Induction Four Foot Resistivity A60 {F13.4}\", original_mnemonic=\"AF60\", data.shape=(6224,)),\n",
              " CurveItem(mnemonic=\"AF90:2\", unit=\"OHMM\", value=\"\", descr=\"Array Induction Four Foot Resistivity A90 {F13.4}\", original_mnemonic=\"AF90\", data.shape=(6224,))]"
            ]
          },
          "execution_count": 95,
          "metadata": {},
          "output_type": "execute_result"
        }
      ],
      "source": [
        "las1.sections['Curves']"
      ]
    },
    {
      "cell_type": "code",
      "execution_count": null,
      "id": "e9b16d53-3308-4b02-a1e8-628121613c90",
      "metadata": {
        "id": "e9b16d53-3308-4b02-a1e8-628121613c90",
        "outputId": "dda204ea-986f-4304-f9dd-37b729e6798d"
      },
      "outputs": [
        {
          "name": "stdout",
          "output_type": "stream",
          "text": [
            "Curve:DEPTH (BOREHOLE) {F10.4} DEPT \t\t\t Unit=M   \n",
            "Curve:Bit Size {F13.4} BS \t\t\t Unit=IN   \n",
            "Curve:Borehole Pressure {F13.4} BHPR \t\t\t Unit=KPA   \n",
            "Curve:Generalized Borehole Temperature {F13.4} GTEM \t\t\t Unit=DEGC   \n",
            "Curve:True Resistivity {F13.4} RT \t\t\t Unit=OHMM   \n",
            "Curve:SP Shifted {F13.4} SP:1 \t\t\t Unit=MV   \n",
            "Curve:SP Armor Return {F13.4} SPAR \t\t\t Unit=MV   \n",
            "Curve:Integrated Transit Time {F13.4} ITT \t\t\t Unit=S   \n",
            "Curve:Sonic Porosity {F13.4} SPHI \t\t\t Unit=V/V   \n",
            "Curve:Sonic Velocity {F13.4} SVEL \t\t\t Unit=M/S   \n",
            "Curve:Sonic Shear Velocity {F13.4} SSVE \t\t\t Unit=M/S   \n",
            "Curve:Delta-T Shear {F13.4} DTSM \t\t\t Unit=US/F   \n",
            "Curve:Poisson's Ratio {F13.4} PR \t\t\t Unit=   \n",
            "Curve:Compressional to Shear Velocity Ratio {F13.4} VPVS \t\t\t Unit=   \n",
            "Curve:Borehole Size {F13.4} SOBS \t\t\t Unit=IN   \n",
            "Curve:Array Induction One Foot Resistivity A10 {F13.4} AO10:1 \t\t\t Unit=OHMM   \n",
            "Curve:Array Induction One Foot Resistivity A20 {F13.4} AO20:1 \t\t\t Unit=OHMM   \n",
            "Curve:Array Induction One Foot Resistivity A30 {F13.4} AO30:1 \t\t\t Unit=OHMM   \n",
            "Curve:Array Induction One Foot Resistivity A60 {F13.4} AO60:1 \t\t\t Unit=OHMM   \n",
            "Curve:Array Induction One Foot Resistivity A90 {F13.4} AO90:1 \t\t\t Unit=OHMM   \n",
            "Curve:Array Induction Two Foot Resistivity A10 {F13.4} AT10:1 \t\t\t Unit=OHMM   \n",
            "Curve:Array Induction Two Foot Resistivity A20 {F13.4} AT20:1 \t\t\t Unit=OHMM   \n",
            "Curve:Array Induction Two Foot Resistivity A30 {F13.4} AT30:1 \t\t\t Unit=OHMM   \n",
            "Curve:Array Induction Two Foot Resistivity A60 {F13.4} AT60:1 \t\t\t Unit=OHMM   \n",
            "Curve:Array Induction Two Foot Resistivity A90 {F13.4} AT90:1 \t\t\t Unit=OHMM   \n",
            "Curve:Array Induction Four Foot Resistivity A20 {F13.4} AF20:1 \t\t\t Unit=OHMM   \n",
            "Curve:Array Induction Four Foot Resistivity A30 {F13.4} AF30:1 \t\t\t Unit=OHMM   \n",
            "Curve:Array Induction Four Foot Resistivity A60 {F13.4} AF60:1 \t\t\t Unit=OHMM   \n",
            "Curve:Array Induction Four Foot Resistivity A90 {F13.4} AF90:1 \t\t\t Unit=OHMM   \n",
            "Curve:Array Induction One Foot Rt {F13.4} AORT \t\t\t Unit=OHMM   \n",
            "Curve:Array Induction One Foot Rxo {F13.4} AORX \t\t\t Unit=OHMM   \n",
            "Curve:Array Induction One Foot Radial Resistivity Profile {AF13.4} AOPR[0] \t\t\t Unit=OHMM   \n",
            "Curve:Spontaneous Potential {F13.4} SP:2 \t\t\t Unit=MV   \n",
            "Curve:Array Induction One Foot Resistivity A10 {F13.4} AO10:2 \t\t\t Unit=OHMM   \n",
            "Curve:Array Induction One Foot Resistivity A20 {F13.4} AO20:2 \t\t\t Unit=OHMM   \n",
            "Curve:Array Induction One Foot Resistivity A30 {F13.4} AO30:2 \t\t\t Unit=OHMM   \n",
            "Curve:Array Induction One Foot Resistivity A60 {F13.4} AO60:2 \t\t\t Unit=OHMM   \n",
            "Curve:Array Induction One Foot Resistivity A90 {F13.4} AO90:2 \t\t\t Unit=OHMM   \n",
            "Curve:Array Induction Two Foot Resistivity A10 {F13.4} AT10:2 \t\t\t Unit=OHMM   \n",
            "Curve:Array Induction Two Foot Resistivity A20 {F13.4} AT20:2 \t\t\t Unit=OHMM   \n",
            "Curve:Array Induction Two Foot Resistivity A30 {F13.4} AT30:2 \t\t\t Unit=OHMM   \n",
            "Curve:Array Induction Two Foot Resistivity A60 {F13.4} AT60:2 \t\t\t Unit=OHMM   \n",
            "Curve:Array Induction Two Foot Resistivity A90 {F13.4} AT90:2 \t\t\t Unit=OHMM   \n",
            "Curve:Array Induction Four Foot Resistivity A10 {F13.4} AF10 \t\t\t Unit=OHMM   \n",
            "Curve:Array Induction Four Foot Resistivity A20 {F13.4} AF20:2 \t\t\t Unit=OHMM   \n",
            "Curve:Array Induction Four Foot Resistivity A30 {F13.4} AF30:2 \t\t\t Unit=OHMM   \n",
            "Curve:Array Induction Four Foot Resistivity A60 {F13.4} AF60:2 \t\t\t Unit=OHMM   \n",
            "Curve:Array Induction Four Foot Resistivity A90 {F13.4} AF90:2 \t\t\t Unit=OHMM   \n"
          ]
        }
      ],
      "source": [
        "for i in las1.sections['Curves']:\n",
        "    print (f'Curve:{i.descr} {i.mnemonic} \\t\\t\\t Unit={i.unit}   ')"
      ]
    },
    {
      "cell_type": "code",
      "execution_count": null,
      "id": "597256e4-96bd-4b3c-a9b1-eab5c755dcc2",
      "metadata": {
        "id": "597256e4-96bd-4b3c-a9b1-eab5c755dcc2",
        "outputId": "073dccc5-9845-44ce-bef1-b1373888afcb"
      },
      "outputs": [
        {
          "ename": "AttributeError",
          "evalue": "'LASFile' object has no attribute 'plt'",
          "output_type": "error",
          "traceback": [
            "\u001b[0;31m---------------------------------------------------------------------------\u001b[0m",
            "\u001b[0;31mAttributeError\u001b[0m                            Traceback (most recent call last)",
            "Cell \u001b[0;32mIn[3], line 4\u001b[0m\n\u001b[1;32m      2\u001b[0m \u001b[38;5;28;01mimport\u001b[39;00m \u001b[38;5;21;01mlasio\u001b[39;00m\n\u001b[1;32m      3\u001b[0m las1\u001b[38;5;241m=\u001b[39mlasio\u001b[38;5;241m.\u001b[39mread(\u001b[38;5;124m\"\u001b[39m\u001b[38;5;124m1-brsa-1175-ces_12_ai.las\u001b[39m\u001b[38;5;124m\"\u001b[39m)\n\u001b[0;32m----> 4\u001b[0m las1\u001b[38;5;241m.\u001b[39mplt\u001b[38;5;241m.\u001b[39mplot(y\u001b[38;5;241m=\u001b[39m\u001b[38;5;124m'\u001b[39m\u001b[38;5;124mRT\u001b[39m\u001b[38;5;124m'\u001b[39m)\n",
            "\u001b[0;31mAttributeError\u001b[0m: 'LASFile' object has no attribute 'plt'"
          ]
        }
      ],
      "source": [
        "import matplotlib.pyplot as plt\n",
        "import lasio\n",
        "las1=lasio.read(\"1-brsa-1175-ces_12_ai.las\")\n",
        "las1.plt.plot(y='RT')"
      ]
    },
    {
      "cell_type": "code",
      "execution_count": null,
      "id": "50604469-2b3d-4bae-a43f-a0c4d64b99c0",
      "metadata": {
        "id": "50604469-2b3d-4bae-a43f-a0c4d64b99c0"
      },
      "outputs": [],
      "source": []
    }
  ],
  "metadata": {
    "kernelspec": {
      "display_name": "Python 3 (ipykernel)",
      "language": "python",
      "name": "python3"
    },
    "language_info": {
      "codemirror_mode": {
        "name": "ipython",
        "version": 3
      },
      "file_extension": ".py",
      "mimetype": "text/x-python",
      "name": "python",
      "nbconvert_exporter": "python",
      "pygments_lexer": "ipython3",
      "version": "3.11.7"
    },
    "colab": {
      "provenance": [],
      "include_colab_link": true
    }
  },
  "nbformat": 4,
  "nbformat_minor": 5
}